{
 "cells": [
  {
   "cell_type": "markdown",
   "metadata": {},
   "source": [
    "<h1><center>\n",
    "Data Collecting and Munging\n",
    "</center></h1>\n",
    "<h3><center>\n",
    "Marcel Colvin\n",
    "</center></h3>"
   ]
  },
  {
   "cell_type": "code",
   "execution_count": 18,
   "metadata": {},
   "outputs": [],
   "source": [
    "import requests\n",
    "import requests_cache\n",
    "from bs4 import BeautifulSoup\n",
    "import pandas as pd\n",
    "import numpy as np\n",
    "import time\n",
    "import math\n",
    "from selenium import webdriver\n",
    "from pandas.io.html import read_html\n",
    "import re\n",
    "import sqlalchemy as sqla\n",
    "import sqlite3 as sql\n",
    "requests_cache.install_cache('coll_cache')\n",
    "%matplotlib inline"
   ]
  },
  {
   "cell_type": "code",
   "execution_count": 19,
   "metadata": {},
   "outputs": [],
   "source": [
    "sqlite_file = 'FootballData.sqlite'\n",
    "football_conn = sqla.create_engine('sqlite:///' + sqlite_file)"
   ]
  },
  {
   "cell_type": "markdown",
   "metadata": {},
   "source": [
    "## Get 1st Division English Soccer winners through time:\n",
    "#### Data Source: https://en.wikipedia.org/wiki/List_of_English_football_champions"
   ]
  },
  {
   "cell_type": "code",
   "execution_count": 20,
   "metadata": {},
   "outputs": [],
   "source": [
    "pl_standings_page = 'https://en.wikipedia.org/wiki/List_of_English_football_champions'\n",
    "pl_standings_table = read_html(pl_standings_page, index_col=0, attrs={\"class\":\"wikitable\"})"
   ]
  },
  {
   "cell_type": "markdown",
   "metadata": {},
   "source": [
    "### When it was called the First Division:"
   ]
  },
  {
   "cell_type": "code",
   "execution_count": 21,
   "metadata": {},
   "outputs": [],
   "source": [
    "first_div_winners = pl_standings_table[1]\n",
    "first_div_winners = first_div_winners.drop(first_div_winners.index[24])\n",
    "first_div_winners = first_div_winners.drop(first_div_winners.index[44])\n",
    "\n",
    "first_div_winners = first_div_winners.reset_index()\n",
    "first_div_winners.columns = first_div_winners.iloc[0]\n",
    "first_div_winners = first_div_winners[1:]\n",
    "\n",
    "first_div_winners[\"Champions (number of titles)\"] = [re.sub(\"[^A-Za-z]\", \" \", s).strip() for s in first_div_winners[\"Champions (number of titles)\"]]\n",
    "first_div_winners = first_div_winners.reset_index(drop= True)\n",
    "first_div_winners.to_sql('first_div_winners',football_conn,if_exists='replace', index= False)"
   ]
  },
  {
   "cell_type": "markdown",
   "metadata": {},
   "source": [
    "### For the Premier League:"
   ]
  },
  {
   "cell_type": "code",
   "execution_count": 6,
   "metadata": {},
   "outputs": [],
   "source": [
    "pl_winners = pl_standings_table[2]\n",
    "pl_winners = pl_winners.reset_index()\n",
    "pl_winners.columns = pl_winners.iloc[0]\n",
    "pl_winners = pl_winners[1:]\n",
    "pl_winners[\"Champions (number of titles)\"] = [re.sub(\"[^A-Za-z]\", \" \", s).strip() for s in pl_winners[\"Champions (number of titles)\"]]\n",
    "pl_winners = pl_winners.reset_index(drop = True)\n",
    "pl_winners.to_sql('pl_winners',football_conn,if_exists='replace', index= False)"
   ]
  },
  {
   "cell_type": "markdown",
   "metadata": {},
   "source": [
    "### Combining Both Together:"
   ]
  },
  {
   "cell_type": "code",
   "execution_count": 7,
   "metadata": {},
   "outputs": [],
   "source": [
    "full_winners = pd.concat([first_div_winners[[\"Year\",\"Champions (number of titles)\", \"Runners-up\", \"Third place\"]], pl_winners[[\"Year\",\"Champions (number of titles)\", \"Runners-up\", \"Third place\"]]])\n",
    "full_winners = full_winners.reset_index(drop =True)\n",
    "full_winners.to_sql('full_EPL_winners',football_conn,if_exists='replace', index= False)"
   ]
  },
  {
   "cell_type": "markdown",
   "metadata": {},
   "source": [
    "### Total Number of Titles per Team:"
   ]
  },
  {
   "cell_type": "code",
   "execution_count": 8,
   "metadata": {},
   "outputs": [],
   "source": [
    "titles = pl_standings_table[3]\n",
    "titles = titles.reset_index()\n",
    "titles.columns = titles.iloc[0]\n",
    "titles = titles[1:]\n",
    "titles = titles.reset_index(drop = True)\n",
    "for i in range(len(titles)):\n",
    "    titles[\"Winners\"][i] = int(titles[\"Winners\"][i])\n",
    "    titles[\"Runners-up\"][i] = int(titles[\"Runners-up\"][i])\n",
    "titles.to_sql('titles',football_conn,if_exists='replace', index= False)"
   ]
  },
  {
   "cell_type": "markdown",
   "metadata": {},
   "source": [
    "## Get Results for the 2015-2016 Season:\n",
    "#### Data Source: https://en.wikipedia.org/wiki/2015%E2%80%9316_Premier_League"
   ]
  },
  {
   "cell_type": "code",
   "execution_count": 9,
   "metadata": {},
   "outputs": [],
   "source": [
    "results_page = 'https://en.wikipedia.org/wiki/2015%E2%80%9316_Premier_League'\n",
    "season_results_table = read_html(results_page, index_col=0, attrs={\"class\":\"wikitable\"})"
   ]
  },
  {
   "cell_type": "markdown",
   "metadata": {},
   "source": [
    "### Final Table for the season:"
   ]
  },
  {
   "cell_type": "code",
   "execution_count": 14,
   "metadata": {},
   "outputs": [],
   "source": [
    "season_results = season_results_table[3]\n",
    "season_results = season_results.reset_index()\n",
    "season_results.columns = season_results.iloc[0]\n",
    "season_results = season_results[1:]\n",
    "season_results = season_results.reset_index(drop = True)\n",
    "season_results.to_sql('EPLseason_results_2015',football_conn,if_exists='replace', index= True)"
   ]
  },
  {
   "cell_type": "markdown",
   "metadata": {},
   "source": [
    "### Matches in a Home/Away Matrix"
   ]
  },
  {
   "cell_type": "code",
   "execution_count": 16,
   "metadata": {},
   "outputs": [],
   "source": [
    "matches = season_results_table[4]\n",
    "matches.columns = matches.iloc[0]\n",
    "matches = matches[1:]\n",
    "matches.columns.names = ['Away']\n",
    "matches.index.names = ['Home']\n",
    "matches.to_sql('EPLmatches_2015',football_conn, index = True,if_exists='replace')"
   ]
  },
  {
   "cell_type": "markdown",
   "metadata": {},
   "source": [
    "## Read in Leicester City's Standings over Time:\n",
    "#### Data Source: https://en.wikipedia.org/wiki/List_of_Leicester_City_F.C._seasons"
   ]
  },
  {
   "cell_type": "code",
   "execution_count": 15,
   "metadata": {},
   "outputs": [],
   "source": [
    "lc_standings = pd.read_csv(\"raw_data/lc_rank.csv\")\n",
    "lc_standings.to_sql('lc_rank',football_conn,if_exists='replace', index= False)"
   ]
  },
  {
   "cell_type": "markdown",
   "metadata": {},
   "source": [
    "## Get Premier Leauge Statistics by team 2000-2016\n",
    "#### Data Source: https://www.premierleague.com/stats/top/clubs/wins?se=-1"
   ]
  },
  {
   "cell_type": "code",
   "execution_count": null,
   "metadata": {},
   "outputs": [],
   "source": [
    "stats_needed =[ 'losses', 'goals', 'total_yel_card', 'total_red_card','total_pass','total_scoring_att','total_tackle','saves', 'big_chance_missed','clean_sheet', 'total_offside', 'dispossessed', 'touches', 'att_ibox_goal','att_obox_goal','goals_conceded' ]\n",
    "years_needed = ['9','10','11', '12', '13', '14', '15', '16','17','18','19','20','21','22', '27','42' ]"
   ]
  },
  {
   "cell_type": "code",
   "execution_count": null,
   "metadata": {},
   "outputs": [],
   "source": [
    "#Creates a cache\n",
    "options = webdriver.ChromeOptions()\n",
    "options.add_argument(\"user-data-dir = C:\\\\Users\\\\marce\\\\AppData\\\\Local\\\\Temp\\\\scoped_dir3244_20158\")"
   ]
  },
  {
   "cell_type": "code",
   "execution_count": null,
   "metadata": {},
   "outputs": [],
   "source": [
    "def pull_yearly_stats(year):\n",
    "    \"\"\"This function takes in a specific year value that is found in the se parameter\n",
    "    in the url of premierleague.com/stats/top/clubs and returns a dataframe\n",
    "    of statistics that can be specified in the stats_needed value above\"\"\"\n",
    "    browser.get(\"https://www.premierleague.com/stats/top/clubs/{}?se={}\".format('wins', year))\n",
    "    time.sleep(5)\n",
    "    html = browser.page_source\n",
    "    soup = BeautifulSoup(html,'lxml-xml')\n",
    "    table = soup.find_all(name='tbody',attrs={\"class\": \"statsTableContainer\"})\n",
    "    winstable = table[0]\n",
    "    stat1 = winstable.find_all('td', attrs = {'class':'mainStat'})\n",
    "    name1 = winstable.find_all('a', attrs = {'class': 'playerName'})\n",
    "    t1 = [x.text.strip() for x in name1]\n",
    "    t2 = [x.text.strip() for x in stat1]\n",
    "    frame1 = pd.DataFrame({'Name': t1, 'wins':t2})\n",
    "    for stat in stats_needed:\n",
    "        browser.get(\"https://www.premierleague.com/stats/top/clubs/{}?se={}\".format(stat, year))\n",
    "        time.sleep(5)\n",
    "        html = browser.page_source\n",
    "        soup = BeautifulSoup(html,'lxml-xml')\n",
    "        table = soup.find_all(name='tbody',attrs={\"class\": \"statsTableContainer\"})\n",
    "        winstable = table[0]\n",
    "        stat1 = winstable.find_all('td', attrs = {'class':'mainStat'})\n",
    "        name1 = winstable.find_all('a', attrs = {'class': 'playerName'})\n",
    "        t1 = [x.text.strip() for x in name1]\n",
    "        t2 = [x.text.strip() for x in stat1]\n",
    "        frame1 = frame1.merge(pd.DataFrame.from_dict({'Name':t1, stat:t2}), how = 'left', on = [\"Name\"])\n",
    "    return frame1"
   ]
  },
  {
   "cell_type": "code",
   "execution_count": null,
   "metadata": {},
   "outputs": [],
   "source": [
    "browser = webdriver.Chrome(executable_path ='C:\\\\Users\\\\marce\\\\Documents\\\\PythonProjects\\\\chromedriver_win32\\\\chromedriver.exe', chrome_options = options)\n",
    "season_stats = [pull_yearly_stats(x) for x in years_needed ]"
   ]
  },
  {
   "cell_type": "markdown",
   "metadata": {},
   "source": [
    "### Add the wages of each club to the statistics dataframe for each year:\n",
    "#### Data Sources: \n",
    "http://www.telegraph.co.uk/sport/football/competitions/premier-league/9514149/Graphic-Premier-League-transfer-and-wage-spending-from-the-200001-season-to-201112.html\n",
    "\n",
    "http://www.theguardian.com/football/2013/apr/18/premier-league-finances-club-by-club\n",
    "\n",
    "https://www.theguardian.com/football/2014/may/01/premier-league-accounts-club-by-club-david-conn\n",
    "\n",
    "https://www.theguardian.com/football/2015/apr/29/premier-league-finances-club-by-club\n",
    "\n",
    "https://www.theguardian.com/football/2016/may/25/premier-league-finances-club-by-club-breakdown-david-conn\n",
    "\n",
    "https://www.theguardian.com/football/2017/jun/01/premier-league-finances-club-by-club"
   ]
  },
  {
   "cell_type": "code",
   "execution_count": null,
   "metadata": {},
   "outputs": [],
   "source": [
    "wages_raw = pd.read_csv(\"wages.csv\")\n",
    "wages= [0]*16\n",
    "for i in range(0,16):\n",
    "    wages[i] =wages_raw.loc[20*i:20*i+19]\n",
    "    wages[i][\"Name\"] = wages[i][\"Name\"].str.lower()\n",
    "wages[1]"
   ]
  },
  {
   "cell_type": "code",
   "execution_count": null,
   "metadata": {},
   "outputs": [],
   "source": [
    "for i in range(0,16):\n",
    "    season_stats[i][\"Name\"] = season_stats[i][\"Name\"].str.lower()\n",
    "    season_stats[i] = season_stats[i].merge(wages[i], how = 'left', on = [\"Name\"] )"
   ]
  },
  {
   "cell_type": "markdown",
   "metadata": {},
   "source": [
    "### Correct the Data"
   ]
  },
  {
   "cell_type": "code",
   "execution_count": null,
   "metadata": {},
   "outputs": [],
   "source": [
    "for i in range(0,16):\n",
    "    for j in range(0,20):\n",
    "        if(math.isnan(season_stats[i][\"wins\"][j])):\n",
    "            season_stats[i][\"wins\"][j] = 0\n",
    "        if(math.isnan(season_stats[i][\"losses\"][j])):\n",
    "            season_stats[i][\"losses\"][j] = 0\n",
    "        if(math.isnan(season_stats[i][\"total_red_card\"][j])):\n",
    "            season_stats[i][\"total_red_card\"][j] = 0\n",
    "        if(math.isnan(season_stats[i][\"clean_sheet\"][j])):\n",
    "            season_stats[i][\"clean_sheet\"][j] = 0\n",
    "        if(season_stats[i][\"Season Wage Bill (£mil)\"][j]) == 0:\n",
    "            season_stats[i][\"Season Wage Bill (£mil)\"][j] = np.nan"
   ]
  },
  {
   "cell_type": "code",
   "execution_count": 317,
   "metadata": {},
   "outputs": [],
   "source": [
    "season_stats = [x.drop(\"saves\", 1) for x in season_stats]#saves is too weird of a variable\n"
   ]
  },
  {
   "cell_type": "code",
   "execution_count": 24,
   "metadata": {
    "scrolled": true
   },
   "outputs": [
    {
     "name": "stderr",
     "output_type": "stream",
     "text": [
      "C:\\Users\\marce\\Anaconda3\\lib\\site-packages\\pandas\\core\\indexing.py:194: SettingWithCopyWarning: \n",
      "A value is trying to be set on a copy of a slice from a DataFrame\n",
      "\n",
      "See the caveats in the documentation: http://pandas.pydata.org/pandas-docs/stable/indexing.html#indexing-view-versus-copy\n",
      "  self._setitem_with_indexer(indexer, value)\n",
      "C:\\Users\\marce\\Anaconda3\\lib\\site-packages\\ipykernel_launcher.py:20: SettingWithCopyWarning: \n",
      "A value is trying to be set on a copy of a slice from a DataFrame\n",
      "\n",
      "See the caveats in the documentation: http://pandas.pydata.org/pandas-docs/stable/indexing.html#indexing-view-versus-copy\n",
      "C:\\Users\\marce\\Anaconda3\\lib\\site-packages\\ipykernel_launcher.py:22: SettingWithCopyWarning: \n",
      "A value is trying to be set on a copy of a slice from a DataFrame\n",
      "\n",
      "See the caveats in the documentation: http://pandas.pydata.org/pandas-docs/stable/indexing.html#indexing-view-versus-copy\n",
      "C:\\Users\\marce\\Anaconda3\\lib\\site-packages\\ipykernel_launcher.py:24: SettingWithCopyWarning: \n",
      "A value is trying to be set on a copy of a slice from a DataFrame\n",
      "\n",
      "See the caveats in the documentation: http://pandas.pydata.org/pandas-docs/stable/indexing.html#indexing-view-versus-copy\n"
     ]
    }
   ],
   "source": [
    "for i in range(0,16):\n",
    "    season_stats[i][\"draws\"] = (38 - season_stats[i][\"wins\"]- season_stats[i][\"losses\"])\n",
    "    season_stats[i][\"points\"] = season_stats[i][\"wins\"] * 3 + (season_stats[i][\"draws\"])\n",
    "    season_stats[i] = season_stats[i].sort_values(by = [\"points\"], ascending = [False])\n",
    "    season_stats[i][\"Won\"] = False\n",
    "    season_stats[i][\"Won\"].at[0] = True\n",
    "    season_stats[i][\"Top4\"] = False\n",
    "    season_stats[i][\"Top4\"].iloc[[0,1,2,3]] = True\n",
    "    season_stats[i][\"rel\"] = False\n",
    "    season_stats[i][\"rel\"].iloc[[17,18,19]] = True\n",
    "    season_stats[i][\"points_per_mil\"] = season_stats[i][\"points\"] /season_stats[i][\"Season Wage Bill (£mil)\"]\n",
    "    season_stats[i][\"goal_diff\"] = season_stats[i][\"goals\"] - season_stats[i][\"goals_conceded\"]\n",
    "    if(i < 10):\n",
    "        season_stats[i][\"Year\"] = int(\"200{}\".format(i))\n",
    "    else:\n",
    "        season_stats[i][\"Year\"] = int(\"20{}\".format(i))\n",
    "    season_stats[i][\"wage_normalized\"] = (season_stats[i][\"Season Wage Bill (£mil)\"] - np.nanmean(season_stats[i][\"Season Wage Bill (£mil)\"]))/np.sqrt(np.nanvar(season_stats[i][\"Season Wage Bill (£mil)\"]))\n",
    "    for j in range(len(season_stats[i])):\n",
    "        if(season_stats[i][\"total_pass\"][j] != np.nan and season_stats[i][\"total_pass\"][j] != None):\n",
    "            season_stats[i][\"total_pass\"][j] = float(str(season_stats[i][\"total_pass\"][j]).replace(',', ''))\n",
    "        if(season_stats[i][\"touches\"][j] != np.nan and season_stats[i][\"touches\"][j] != None):\n",
    "            season_stats[i][\"touches\"][j] = float(str(season_stats[i][\"touches\"][j]).replace(',', ''))\n",
    "        if(season_stats[i][\"total_tackle\"][j] != np.nan and season_stats[i][\"total_tackle\"][j] != None):\n",
    "            season_stats[i][\"total_tackle\"][j] = float(str(season_stats[i][\"total_tackle\"][j]).replace(',', ''))\n",
    "    season_stats[i] = season_stats[i].reset_index(drop = True)\n"
   ]
  },
  {
   "cell_type": "markdown",
   "metadata": {},
   "source": [
    "### Write to Database for later use:"
   ]
  },
  {
   "cell_type": "code",
   "execution_count": 25,
   "metadata": {},
   "outputs": [],
   "source": [
    "for i in range(0,len(season_stats)): #final table for all seasons exported so it is easy to recompile\n",
    "    season_stats[i].to_sql('pl_season_stats_{}'.format(i+1),football_conn,if_exists='replace', index = False)"
   ]
  },
  {
   "cell_type": "markdown",
   "metadata": {},
   "source": [
    "## Get Player Statistics by Team for 2015-2016\n",
    "#### Data Source = https://www.foxsports.com/soccer/stats?competition=1&season=20150&category=STANDARD"
   ]
  },
  {
   "cell_type": "code",
   "execution_count": 27,
   "metadata": {},
   "outputs": [],
   "source": [
    "teams = ['arsenal', 'aston-villa', 'bournemouth', 'chelsea' ,'crystal-palace', 'everton','leicester-city', 'liverpool', 'manchester-city', 'manchester-united', 'newcastle-united', 'norwich-city',\n",
    "         'southampton', 'stoke-city', 'sunderland', 'swansea-city', 'tottenham-hotspur', 'watford', 'west-bromwich-albion', 'west-ham-united']"
   ]
  },
  {
   "cell_type": "code",
   "execution_count": 28,
   "metadata": {},
   "outputs": [],
   "source": [
    "season_stats_2015 = {}\n",
    "for i in range(0,20):\n",
    "    base_url = 'https://www.foxsports.com/soccer/{}-team-stats'.format(teams[i])\n",
    "    params1 = {'competition':'1', 'season':'20150', 'category': 'STANDARD'}\n",
    "    req = requests.get(base_url, params = params1)\n",
    "    soupe = BeautifulSoup(req.text,'html.parser')\n",
    "    cols = soupe.find_all('th')\n",
    "    rows = soupe.find_all('tr', attrs = {'class': 'wisbb_fvStand'})\n",
    "    t2 = [x.text.strip() for x in cols]\n",
    "    a = pd.DataFrame(t2)\n",
    "    for row in rows[1:]:\n",
    "        values = row.find_all('td')\n",
    "        t1 = [x.text.strip() for x in values]\n",
    "        t1[0] = t1[0].split('\\n')[2]\n",
    "        a = pd.concat([a, pd.DataFrame(t1)], axis = 1)\n",
    "    a = a.T\n",
    "    a.columns = a.iloc[0]\n",
    "    a = a.reset_index(drop = True)\n",
    "    season_stats_2015[teams[i]] = a[1:]"
   ]
  },
  {
   "cell_type": "code",
   "execution_count": 31,
   "metadata": {},
   "outputs": [
    {
     "name": "stderr",
     "output_type": "stream",
     "text": [
      "C:\\Users\\marce\\Anaconda3\\lib\\site-packages\\ipykernel_launcher.py:2: SettingWithCopyWarning: \n",
      "A value is trying to be set on a copy of a slice from a DataFrame.\n",
      "Try using .loc[row_indexer,col_indexer] = value instead\n",
      "\n",
      "See the caveats in the documentation: http://pandas.pydata.org/pandas-docs/stable/indexing.html#indexing-view-versus-copy\n",
      "  \n",
      "C:\\Users\\marce\\Anaconda3\\lib\\site-packages\\ipykernel_launcher.py:3: SettingWithCopyWarning: \n",
      "A value is trying to be set on a copy of a slice from a DataFrame.\n",
      "Try using .loc[row_indexer,col_indexer] = value instead\n",
      "\n",
      "See the caveats in the documentation: http://pandas.pydata.org/pandas-docs/stable/indexing.html#indexing-view-versus-copy\n",
      "  This is separate from the ipykernel package so we can avoid doing imports until\n",
      "C:\\Users\\marce\\Anaconda3\\lib\\site-packages\\ipykernel_launcher.py:4: SettingWithCopyWarning: \n",
      "A value is trying to be set on a copy of a slice from a DataFrame.\n",
      "Try using .loc[row_indexer,col_indexer] = value instead\n",
      "\n",
      "See the caveats in the documentation: http://pandas.pydata.org/pandas-docs/stable/indexing.html#indexing-view-versus-copy\n",
      "  after removing the cwd from sys.path.\n",
      "C:\\Users\\marce\\Anaconda3\\lib\\site-packages\\ipykernel_launcher.py:5: SettingWithCopyWarning: \n",
      "A value is trying to be set on a copy of a slice from a DataFrame.\n",
      "Try using .loc[row_indexer,col_indexer] = value instead\n",
      "\n",
      "See the caveats in the documentation: http://pandas.pydata.org/pandas-docs/stable/indexing.html#indexing-view-versus-copy\n",
      "  \"\"\"\n",
      "C:\\Users\\marce\\Anaconda3\\lib\\site-packages\\ipykernel_launcher.py:6: SettingWithCopyWarning: \n",
      "A value is trying to be set on a copy of a slice from a DataFrame.\n",
      "Try using .loc[row_indexer,col_indexer] = value instead\n",
      "\n",
      "See the caveats in the documentation: http://pandas.pydata.org/pandas-docs/stable/indexing.html#indexing-view-versus-copy\n",
      "  \n",
      "C:\\Users\\marce\\Anaconda3\\lib\\site-packages\\ipykernel_launcher.py:7: SettingWithCopyWarning: \n",
      "A value is trying to be set on a copy of a slice from a DataFrame.\n",
      "Try using .loc[row_indexer,col_indexer] = value instead\n",
      "\n",
      "See the caveats in the documentation: http://pandas.pydata.org/pandas-docs/stable/indexing.html#indexing-view-versus-copy\n",
      "  import sys\n",
      "C:\\Users\\marce\\Anaconda3\\lib\\site-packages\\ipykernel_launcher.py:8: SettingWithCopyWarning: \n",
      "A value is trying to be set on a copy of a slice from a DataFrame.\n",
      "Try using .loc[row_indexer,col_indexer] = value instead\n",
      "\n",
      "See the caveats in the documentation: http://pandas.pydata.org/pandas-docs/stable/indexing.html#indexing-view-versus-copy\n",
      "  \n"
     ]
    }
   ],
   "source": [
    "for team in teams:\n",
    "    season_stats_2015[team][\"GP\"] = [int(s) for s in season_stats_2015[team][\"GP\"]]\n",
    "    season_stats_2015[team][\"GS\"] = [int(s) for s in season_stats_2015[team][\"GS\"]]\n",
    "    season_stats_2015[team][\"MP\"] = [int(s) for s in season_stats_2015[team][\"MP\"]]\n",
    "    season_stats_2015[team][\"G\"] = [int(s) for s in season_stats_2015[team][\"G\"]]\n",
    "    season_stats_2015[team][\"A\"] = [int(s) for s in season_stats_2015[team][\"A\"]]\n",
    "    season_stats_2015[team][\"SOG\"] = [int(s) for s in season_stats_2015[team][\"SOG\"]]\n",
    "    season_stats_2015[team][\"S\"] = [int(s) for s in season_stats_2015[team][\"S\"]]"
   ]
  },
  {
   "cell_type": "code",
   "execution_count": 32,
   "metadata": {},
   "outputs": [],
   "source": [
    "for team in teams: #export the data for the 2015 season\n",
    "    season_stats_2015[team].to_sql('{}_2015_stats'.format(team.replace('-','_')),football_conn,if_exists='replace', index= False)"
   ]
  },
  {
   "cell_type": "markdown",
   "metadata": {},
   "source": [
    "# Get NBA Champions Data"
   ]
  },
  {
   "cell_type": "code",
   "execution_count": 9,
   "metadata": {},
   "outputs": [],
   "source": [
    "NBA_url = 'https://en.wikipedia.org/wiki/List_of_NBA_champions'\n",
    "NBA_website_tables = read_html(NBA_url, index_col=0, attrs={\"class\":\"wikitable\"})"
   ]
  },
  {
   "cell_type": "code",
   "execution_count": 31,
   "metadata": {},
   "outputs": [],
   "source": [
    "NBA_winners = NBA_website_tables[0]\n",
    "NBA_winners = NBA_winners.reset_index(drop = False)\n",
    "NBA_winners.columns = NBA_winners.iloc[0]\n",
    "NBA_winners = NBA_winners[1:]\n",
    "NBA_winners = NBA_winners.reset_index(drop = True)\n",
    "NBA_winners =NBA_winners[[\"Year\", \"Winning team\", \"Losing team\"]]\n",
    "NBA_winners[\"Winning team\"]= [re.sub(\"[^A-Za-z]\", \" \", s).strip() for s in NBA_winners[\"Winning team\"]]\n",
    "NBA_winners[\"Losing team\"]= [re.sub(\"[^A-Za-z]\", \" \", s).strip() for s in NBA_winners[\"Losing team\"]]\n",
    "\n",
    "\n",
    "NBA_winners.to_sql(\"NBA_winners\", football_conn,if_exists='replace', index= False)"
   ]
  },
  {
   "cell_type": "markdown",
   "metadata": {},
   "source": [
    "# Get MLS Champions Data"
   ]
  },
  {
   "cell_type": "code",
   "execution_count": 32,
   "metadata": {},
   "outputs": [],
   "source": [
    "MLS_url = 'https://en.wikipedia.org/wiki/List_of_American_and_Canadian_soccer_champions'\n",
    "MLS_website_tables = read_html(MLS_url, index_col=0, attrs={\"class\":\"wikitable\"})"
   ]
  },
  {
   "cell_type": "code",
   "execution_count": 44,
   "metadata": {},
   "outputs": [],
   "source": [
    "MLS_winners = MLS_website_tables[3]\n",
    "MLS_winners = MLS_winners.reset_index(drop = False)\n",
    "MLS_winners.columns = MLS_winners.iloc[0]\n",
    "MLS_winners = MLS_winners[1:]\n",
    "MLS_winners = MLS_winners.reset_index(drop = True)\n",
    "MLS_winners = MLS_winners[[\"Year\", \"MLS Cup (number of titles)\", \"Runners-up\"]]\n",
    "MLS_winners.columns = [\"Year\", \"Champion\", \"Runners-up\", \"toRemove\"]\n",
    "MLS_winners = MLS_winners[[\"Year\", \"Champion\", \"Runners-up\"]]\n",
    "MLS_winners[\"Champion\"]= [re.sub(\"[^A-Za-z]\", \" \", s).strip() for s in MLS_winners[\"Champion\"]]\n",
    "\n",
    "MLS_winners.to_sql(\"MLS_winners\", football_conn,if_exists='replace', index= False)"
   ]
  },
  {
   "cell_type": "markdown",
   "metadata": {},
   "source": [
    "# Get NFL Champions Data"
   ]
  },
  {
   "cell_type": "code",
   "execution_count": 46,
   "metadata": {},
   "outputs": [],
   "source": [
    "NFL_url = 'https://en.wikipedia.org/wiki/List_of_Super_Bowl_champions'\n",
    "NFL_website_tables = read_html(NFL_url, index_col=0, attrs={\"class\":\"wikitable\"})"
   ]
  },
  {
   "cell_type": "code",
   "execution_count": 117,
   "metadata": {},
   "outputs": [],
   "source": [
    "NFL_winners = NFL_website_tables[1]\n",
    "NFL_winners = NFL_winners.reset_index(drop = False)\n",
    "NFL_winners.columns =NFL_winners.iloc[0]\n",
    "NFL_winners = NFL_winners[1:]\n",
    "NFL_winners = NFL_winners.reset_index(drop = True)\n",
    "NFL_winners = NFL_winners[:-5]\n",
    "NFL_winners= NFL_winners[[\"Date\", \"Winning team\", \"Losing team\"]]\n",
    "NFL_winners[\"Winning team\"] = [s.split(\"0\")[0].strip() for s in NFL_winners[\"Winning team\"]]\n",
    "NFL_winners[\"Losing team\"] = [s.split(\"0\")[0].strip() for s in NFL_winners[\"Losing team\"]]\n",
    "NFL_winners.at[51, \"Losing team\"] = \"New England Patriots\"\n",
    "NFL_winners[\"Date\"] = [int(str(s).split(',')[1]) for s in NFL_winners[\"Date\"]]\n",
    "NFL_winners.to_sql(\"NFL_winners\", football_conn,if_exists='replace', index= False)"
   ]
  },
  {
   "cell_type": "markdown",
   "metadata": {},
   "source": [
    "# Get MLB Champions Data"
   ]
  },
  {
   "cell_type": "code",
   "execution_count": 90,
   "metadata": {},
   "outputs": [],
   "source": [
    "MLB_url = 'https://en.wikipedia.org/wiki/List_of_World_Series_champions'\n",
    "MLB_website_tables = read_html(MLB_url, index_col=0, attrs={\"class\":\"wikitable\"})"
   ]
  },
  {
   "cell_type": "code",
   "execution_count": 116,
   "metadata": {},
   "outputs": [],
   "source": [
    "MLB_winners = MLB_website_tables[0]\n",
    "MLB_winners = MLB_winners.reset_index(drop = False)\n",
    "MLB_winners.columns =MLB_winners.iloc[0]\n",
    "MLB_winners = MLB_winners[1:]\n",
    "MLB_winners = MLB_winners.reset_index(drop = True)\n",
    "MLB_winners = MLB_winners[[\"Year\", \"Winning team\", \"Losing team\"]]\n",
    "MLB_winners[\"Winning team\"] = [str(s).split(\"(\")[0].strip() for s in MLB_winners[\"Winning team\"]]\n",
    "MLB_winners[\"Losing team\"] = [str(s).split(\"(\")[0].strip() for s in MLB_winners[\"Losing team\"]]\n",
    "MLB_winners[\"Winning team\"] = [str(s).split(\"[\")[0].strip() for s in MLB_winners[\"Winning team\"]]\n",
    "MLB_winners[\"Losing team\"] = [str(s).split(\"[\")[0].strip() for s in MLB_winners[\"Losing team\"]]\n",
    "MLB_winners = MLB_winners.drop(MLB_winners.index[[1,91]])\n",
    "MLB_winners = MLB_winners.reset_index(drop = True)\n",
    "MLB_winners.to_sql(\"MLB_winners\", football_conn, if_exists = 'replace', index = False)"
   ]
  },
  {
   "cell_type": "code",
   "execution_count": 23,
   "metadata": {},
   "outputs": [],
   "source": [
    "db.close()"
   ]
  },
  {
   "cell_type": "markdown",
   "metadata": {},
   "source": [
    "#### Data sources:\n",
    "https://en.wikipedia.org/wiki/List_of_Leicester_City_F.C._seasons\n",
    "https://en.wikipedia.org/wiki/2015%E2%80%9316_Premier_League\n",
    "https://en.wikipedia.org/wiki/List_of_English_football_champions\n",
    "https://www.premierleague.com/stats/top/clubs/wins?se=-1\n",
    "https://www.foxsports.com/soccer/stats?competition=1&season=20150&category=STANDARD\n",
    "http://www.telegraph.co.uk/sport/football/competitions/premier-league/9514149/Graphic-Premier-League-transfer-and-wage-spending-from-the-200001-season-to-201112.html\n",
    "http://www.theguardian.com/football/2013/apr/18/premier-league-finances-club-by-club\n",
    "https://www.theguardian.com/football/2014/may/01/premier-league-accounts-club-by-club-david-conn\n",
    "https://www.theguardian.com/football/2015/apr/29/premier-league-finances-club-by-club\n",
    "https://www.theguardian.com/football/2016/may/25/premier-league-finances-club-by-club-breakdown-david-conn\n",
    "https://www.theguardian.com/football/2017/jun/01/premier-league-finances-club-by-club\n",
    "https://en.wikipedia.org/wiki/List_of_World_Series_champions\n",
    "https://en.wikipedia.org/wiki/List_of_NBA_champions\n",
    "https://en.wikipedia.org/wiki/List_of_American_and_Canadian_soccer_champions\n",
    "https://en.wikipedia.org/wiki/List_of_Super_Bowl_champions"
   ]
  }
 ],
 "metadata": {
  "kernelspec": {
   "display_name": "Python 3",
   "language": "python",
   "name": "python3"
  },
  "language_info": {
   "codemirror_mode": {
    "name": "ipython",
    "version": 3
   },
   "file_extension": ".py",
   "mimetype": "text/x-python",
   "name": "python",
   "nbconvert_exporter": "python",
   "pygments_lexer": "ipython3",
   "version": "3.6.5"
  }
 },
 "nbformat": 4,
 "nbformat_minor": 2
}
